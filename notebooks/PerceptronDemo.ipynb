{
 "cells": [
  {
   "cell_type": "code",
   "execution_count": null,
   "metadata": {
    "collapsed": true
   },
   "outputs": [],
   "source": [
    "import numpy as np\n",
    "from mpl_toolkits.mplot3d import Axes3D\n",
    "import matplotlib.pyplot as plt\n",
    "import time\n",
    "from IPython import display\n",
    "import pylab as pl\n",
    "%matplotlib inline"
   ]
  },
  {
   "cell_type": "markdown",
   "metadata": {},
   "source": [
    "## Perceptron Demo"
   ]
  },
  {
   "cell_type": "code",
   "execution_count": null,
   "metadata": {
    "collapsed": true
   },
   "outputs": [],
   "source": [
    "#set parameters\n",
    "num0 = 6\n",
    "num1 = 6\n",
    "marg_size = 0.3"
   ]
  },
  {
   "cell_type": "code",
   "execution_count": null,
   "metadata": {
    "collapsed": true
   },
   "outputs": [],
   "source": [
    "#generate a sample data set\n",
    "alpha = marg_size/2\n",
    "angs0 = np.r_[np.array([[alpha],[np.pi-alpha]]),(np.pi-2*alpha)*np.random.rand(num0-2,1)+alpha]\n",
    "angs1 = np.r_[np.array([[-alpha],[-np.pi+alpha]]),(-np.pi+2*alpha)*np.random.rand(num0-2,1)-alpha]\n",
    "rota = np.random.rand()*np.pi\n",
    "angs0 = np.mod(angs0+rota,2*np.pi)\n",
    "angs1 = np.mod(angs1+rota,2*np.pi)\n",
    "x0 = np.c_[np.cos(angs0),np.sin(angs0)]\n",
    "x1 = np.c_[np.cos(angs1),np.sin(angs1)]\n",
    "x = np.r_[x0,x1]\n",
    "#generate labels\n",
    "y = np.r_[-1*np.ones([num0,1]),np.ones([num1,1])]\n",
    "#[repmat(-1,num0,1); repmat(+1,num1,1)];"
   ]
  },
  {
   "cell_type": "code",
   "execution_count": null,
   "metadata": {
    "collapsed": true
   },
   "outputs": [],
   "source": [
    "#show the data\n",
    "fig = plt.figure(figsize=(12, 12))\n",
    "\n",
    "#ax = fig.add_subplot(111)\n",
    "a = np.arange(0,np.pi,0.001)\n",
    "#ax.plot(np.cos(a),np.sin(a),c='k')\n",
    "#ax.plot(np.cos(a),-np.sin(a),c='k')\n",
    "pl.plot(np.cos(a),np.sin(a),c='k')\n",
    "pl.plot(np.cos(a),-np.sin(a),c='k')\n",
    "ax = pl.gca()\n",
    "# following four lines are just to center the axes\n",
    "ax.spines['left'].set_position('center')\n",
    "ax.spines['right'].set_color('none')\n",
    "ax.spines['bottom'].set_position('center')\n",
    "ax.spines['top'].set_color('none')\n",
    "# add data\n",
    "ax.scatter(x0[:,0],x0[:,1],s=120,alpha=0.6,c='b',marker='o')\n",
    "ax.scatter(x1[:,0],x1[:,1],s=120,alpha=0.6,c='r',marker='^')\n",
    "#initialize weights\n",
    "w = np.array([0,0])\n",
    "r = np.random.permutation(num0+num1)\n",
    "u = False\n",
    "for iter in range(2):\n",
    "    for ind in r:\n",
    "        # label the current training instance\n",
    "        an = matplotlib.text.Annotation(\"Training\",xy=x[ind,:],xytext=(x[ind,0]+0.5, x[ind,1]+0.5),arrowprops=dict(arrowstyle=\"-\")) \n",
    "        ax.add_artist(an)\n",
    "        display.clear_output(wait=True)\n",
    "        display.display(pl.gcf())\n",
    "        # get prediction according to current w\n",
    "        ypred = np.dot(x[ind,:],w)\n",
    "        # check for mistakes\n",
    "        if ypred*y[ind] <= 0:\n",
    "            # update w\n",
    "            w = w + y[ind]*x[ind,:]\n",
    "            # plot w\n",
    "            w0=w/norm(w);\n",
    "            pt=[w0[1],-w0[0]];\n",
    "            if u:\n",
    "                ln.remove()\n",
    "            ln = matplotlib.lines.Line2D([pt[0],-pt[0]],[pt[1], -pt[1]])\n",
    "            ax.add_line(ln)\n",
    "            u = True\n",
    "        time.sleep(1.0)\n",
    "        an.remove()"
   ]
  }
 ],
 "metadata": {
  "kernelspec": {
   "display_name": "Python 2",
   "language": "python",
   "name": "python2"
  },
  "language_info": {
   "codemirror_mode": {
    "name": "ipython",
    "version": 2
   },
   "file_extension": ".py",
   "mimetype": "text/x-python",
   "name": "python",
   "nbconvert_exporter": "python",
   "pygments_lexer": "ipython2",
   "version": "2.7.10"
  }
 },
 "nbformat": 4,
 "nbformat_minor": 0
}
