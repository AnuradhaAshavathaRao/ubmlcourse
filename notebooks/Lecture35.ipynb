{
 "metadata": {
  "name": "",
  "signature": "sha256:2a27dca66b047f107855798e19704e9ff3a40dacf75515543eb9ca742b12a7f1"
 },
 "nbformat": 3,
 "nbformat_minor": 0,
 "worksheets": [
  {
   "cells": [
    {
     "cell_type": "markdown",
     "metadata": {},
     "source": [
      "## Principal Component Analysis"
     ]
    },
    {
     "cell_type": "code",
     "collapsed": false,
     "input": [
      "import numpy as np\n",
      "import matplotlib.pyplot as plt\n",
      "from PIL import Image\n",
      "from sklearn.decomposition import PCA"
     ],
     "language": "python",
     "metadata": {},
     "outputs": []
    },
    {
     "cell_type": "markdown",
     "metadata": {},
     "source": [
      "### A toy example"
     ]
    },
    {
     "cell_type": "code",
     "collapsed": false,
     "input": [
      "# First generate some data\n",
      "mu = np.array([0,0])\n",
      "Sigma = np.array([[ 46.28249177,  26.12496001],\n",
      "       [ 26.12496001,  19.55457642]])\n",
      "X = np.random.multivariate_normal(mu,Sigma,1000)\n",
      "fig = plt.figure(figsize=[8,8])\n",
      "plt.scatter(X[:,0],X[:,1])\n",
      "plt.xlabel('x', fontsize=12)\n",
      "plt.ylabel('y', fontsize=12)\n",
      "plt.grid(axis='both')"
     ],
     "language": "python",
     "metadata": {},
     "outputs": []
    },
    {
     "cell_type": "code",
     "collapsed": false,
     "input": [
      "# perform PCA\n",
      "L,U=eig(Sigma)\n",
      "# eigenvalues\n",
      "print L\n",
      "# eigenvectors\n",
      "U"
     ],
     "language": "python",
     "metadata": {},
     "outputs": []
    },
    {
     "cell_type": "code",
     "collapsed": false,
     "input": [
      "# first plot the eigenvectors\n",
      "ah=0.1 # size of arrow head\n",
      "f=1.1 # axes range\n",
      "\n",
      "plt.figure(figsize=(8,8))\n",
      "plt.subplot(111,aspect='equal')\n",
      "plt.arrow(0,0,U[0,0],U[1,0],color='r',linewidth=2,head_width=ah,head_length=ah)\n",
      "plt.arrow(0,0,U[0,1],U[1,1],color='r',linewidth=2,head_width=ah,head_length=ah)\n",
      "plt.text(f*U[0,0],f*U[1,0],r'Eigenvector 1, $\\vec{v_1}$ =  %.2f $\\vec{x}$ + %.2f $\\vec{y}$' % (U[0,0],U[1,0]), fontsize=15)\n",
      "plt.text(f*U[0,1],f*U[1,1],r'Eigenvector 2, $\\vec{v_1}$ =  %.2f $\\vec{x}$ + %.2f $\\vec{y}$' % (U[0,1],U[1,1]), fontsize=15)\n",
      "plt.xlim([-f,f])\n",
      "plt.ylim([-f,f])\n",
      "plt.xlabel('x',fontsize=15)\n",
      "plt.ylabel('y',fontsize=15)\n",
      "plt.grid()\n",
      "plt.show()"
     ],
     "language": "python",
     "metadata": {},
     "outputs": []
    },
    {
     "cell_type": "code",
     "collapsed": false,
     "input": [
      "# plot the eigenvectors with the data\n",
      "plt.figure(figsize=(8,8))\n",
      "plt.plot(X[:,0],X[:,1],'bo',markersize=5,zorder=1,)\n",
      "plt.axis('equal')\n",
      "plt.grid()\n",
      "plt.title('Principal Components (eigenvectors) of random data', fontsize=12)\n",
      "plt.xlabel('x', fontsize=12)\n",
      "plt.ylabel('y', fontsize=12)\n",
      "\n",
      "plt.arrow(0,0,U[0,0]*sqrt(L[0]),U[1,0]*sqrt(L[0]),color='r',linewidth=2,head_width=1,head_length=1)\n",
      "plt.arrow(0,0,U[0,1]*sqrt(L[1]),U[1,1]*sqrt(L[1]),color='r',linewidth=2,head_width=1,head_length=1)\n",
      "plt.show()"
     ],
     "language": "python",
     "metadata": {},
     "outputs": []
    },
    {
     "cell_type": "code",
     "collapsed": false,
     "input": [
      "# projecting data onto the principal components (no dimensionality reduction here)\n",
      "Z = np.dot(X,U)\n",
      "plt.figure(figsize=(8,8))\n",
      "plt.axis('equal')\n",
      "plt.grid()\n",
      "plot(Z[:,0],Z[:,1],'bo',markersize=5)\n",
      "plt.xlabel('Principal Component 1',fontsize=15)\n",
      "plt.ylabel('Principal Component 2',fontsize=15)\n",
      "plt.show()"
     ],
     "language": "python",
     "metadata": {},
     "outputs": []
    },
    {
     "cell_type": "markdown",
     "metadata": {},
     "source": [
      "## Dimensionality Reduction using PCA - Eigen Faces"
     ]
    },
    {
     "cell_type": "code",
     "collapsed": false,
     "input": [
      "def image_grid(D,H,W,cols=10,scale=1):\n",
      "    \"\"\" display a grid of images\n",
      "        H,W: Height and width of the images\n",
      "        cols: number of columns = number of images in each row\n",
      "        scale: 1 to fill screen\n",
      "    \"\"\"\n",
      "    n = np.shape(D)[0]\n",
      "    rows = int(math.ceil((n+0.0)/cols))\n",
      "    fig = plt.figure(1,figsize=[scale*20.0/H*W,scale*20.0/cols*rows],dpi=300)\n",
      "    for i in range(n):\n",
      "        plt.subplot(rows,cols,i+1)\n",
      "        fig=plt.imshow(np.reshape(D[i,:],[H,W]), cmap = plt.get_cmap(\"gray\"))\n",
      "        plt.axis('off')"
     ],
     "language": "python",
     "metadata": {},
     "outputs": []
    },
    {
     "cell_type": "code",
     "collapsed": false,
     "input": [
      "# read face images \n",
      "extensions = ['centerlight', 'glasses', 'happy', 'leftlight', 'noglasses', 'normal', 'rightlight', 'sad', 'sleepy', 'surprised', 'wink' ]\n",
      "basename = '../data/yalefaces/subject'\n",
      "numimages = 15*len(extensions)\n",
      "# read one image to get dimensions\n",
      "m = Image.open(basename+'01.centerlight').convert(\"L\")\n",
      "r,c = np.shape(m)\n",
      "X = np.zeros([numimages,r*c])\n",
      "cnt = 0\n",
      "for i in range(1,16):\n",
      "    basename1 = basename+str(i).zfill(2)\n",
      "    for ex in extensions:\n",
      "        fullname = basename1+'.'+ex\n",
      "        m = Image.open(fullname).convert(\"L\")\n",
      "        X[cnt,:] = np.reshape(np.asarray(m),[1,r*c])\n",
      "        cnt = cnt + 1"
     ],
     "language": "python",
     "metadata": {},
     "outputs": []
    },
    {
     "cell_type": "code",
     "collapsed": false,
     "input": [
      "# display raw data using the image_grid function\n",
      "image_grid(X,r,c,cols=11)"
     ],
     "language": "python",
     "metadata": {},
     "outputs": []
    },
    {
     "cell_type": "code",
     "collapsed": false,
     "input": [
      "# create a training and test sample\n",
      "s = np.random.permutation(numimages)\n",
      "trainX = X[s[0:100],:]\n",
      "testX = X[s[100:],:]"
     ],
     "language": "python",
     "metadata": {},
     "outputs": []
    },
    {
     "cell_type": "code",
     "collapsed": false,
     "input": [
      "# visualize the mean face\n",
      "meanTrainFace = np.mean(trainX,axis=0)\n",
      "fig=plt.imshow(np.reshape(meanTrainFace,[r,c]), cmap = plt.get_cmap(\"gray\"))\n",
      "plt.axis('off')"
     ],
     "language": "python",
     "metadata": {},
     "outputs": []
    },
    {
     "cell_type": "code",
     "collapsed": false,
     "input": [
      "# center data \n",
      "trainXcentered = trainX - meanTrainFace\n",
      "# plot the random 10 centered faces\n",
      "image_grid(trainXcentered[:10,:],r,c)\n"
     ],
     "language": "python",
     "metadata": {},
     "outputs": []
    },
    {
     "cell_type": "code",
     "collapsed": false,
     "input": [
      "# perform PCA\n",
      "pca = PCA()\n",
      "p = pca.fit(trainXcentered)\n",
      "# first visualize the explained variance\n",
      "W = p.components_\n",
      "plt.plot(p.explained_variance_ratio_)\n"
     ],
     "language": "python",
     "metadata": {},
     "outputs": []
    },
    {
     "cell_type": "markdown",
     "metadata": {},
     "source": [
      "The above plot is also known as a **scree plot**. Typically, the number of principal components chosen ($L$) for dimensionality reduction is obtained by observing the scree plot and identifying the \"knee\". "
     ]
    },
    {
     "cell_type": "code",
     "collapsed": false,
     "input": [
      "# display the top L eigenfaces\n",
      "L = 50\n",
      "image_grid(W[0:L,:],r,c,cols=10)"
     ],
     "language": "python",
     "metadata": {},
     "outputs": []
    },
    {
     "cell_type": "code",
     "collapsed": false,
     "input": [
      "# take a sample test image (unseen)\n",
      "x = testX[23:24,:]\n",
      "xcentered = x - meanTrainFace\n",
      " \n",
      "image_grid(x,r,c,cols=4)\n",
      "plt.show()\n",
      "image_grid(xcentered,r,c,cols=4)"
     ],
     "language": "python",
     "metadata": {},
     "outputs": []
    },
    {
     "cell_type": "code",
     "collapsed": false,
     "input": [
      "#reconstruct the test image using top $L$ principal components. \n",
      "Xhat = np.zeros([L,xcentered.shape[1]])\n",
      "for i in range(L):\n",
      "    z = np.dot(W[0:i+1,:],xcentered.transpose())\n",
      "    Xhat[i,:] = np.dot(z.transpose(),W[0:i+1,:])\n",
      "\n",
      "image_grid(Xhat,r,c,cols=5)"
     ],
     "language": "python",
     "metadata": {},
     "outputs": []
    }
   ],
   "metadata": {}
  }
 ]
}