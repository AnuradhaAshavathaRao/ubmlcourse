{
 "cells": [
  {
   "cell_type": "code",
   "execution_count": 78,
   "metadata": {
    "collapsed": true
   },
   "outputs": [],
   "source": [
    "from sklearn import linear_model\n",
    "from scipy.stats import t,laplace,norm,multivariate_normal\n",
    "import numpy as np\n",
    "import matplotlib.pyplot as plt\n",
    "from math import sqrt\n",
    "from sklearn.linear_model import LinearRegression, Ridge\n",
    " \n",
    "%matplotlib inline"
   ]
  },
  {
   "cell_type": "markdown",
   "metadata": {},
   "source": [
    "### Linear Gaussian Systems"
   ]
  },
  {
   "cell_type": "code",
   "execution_count": 2,
   "metadata": {
    "collapsed": true
   },
   "outputs": [],
   "source": [
    "def pltcontour(mu,sigma):\n",
    "    x1,x2 = np.mgrid[-10:10:.05, -10:10:.05]\n",
    "    pos = np.dstack((x1, x2))\n",
    "    rv = multivariate_normal(mu,sigma)\n",
    "    plt.contour(x1, x2, rv.pdf(pos))\n",
    "    plt.xlim([-10,10])\n",
    "    plt.ylim([-10,10])"
   ]
  },
  {
   "cell_type": "code",
   "execution_count": 4,
   "metadata": {
    "collapsed": false
   },
   "outputs": [
    {
     "data": {
      "image/png": "[encoded data removed]",
      "text/plain": [
       "<matplotlib.figure.Figure at 0x112365e50>"
      ]
     },
     "metadata": {},
     "output_type": "display_data"
    }
   ],
   "source": [
    "# assume a Gaussian prior on the true location of the airplane\n",
    "mu0 = [0,0]\n",
    "sigma0 = [[1, 0], [0, 1]]\n",
    "pltcontour(mu0,sigma0)"
   ]
  },
  {
   "cell_type": "code",
   "execution_count": 5,
   "metadata": {
    "collapsed": false
   },
   "outputs": [
    {
     "name": "stdout",
     "output_type": "stream",
     "text": [
      "[ 0.35        0.66666667]\n",
      "[[ 0.75        0.        ]\n",
      " [ 0.          0.44444444]]\n",
      "[ 0.5         0.82142857]\n",
      "[[ 0.6         0.        ]\n",
      " [ 0.          0.28571429]]\n",
      "[ 0.61666667  0.92105263]\n",
      "[[ 0.5         0.        ]\n",
      " [ 0.          0.21052632]]\n",
      "[ 0.67142857  0.91666667]\n",
      "[[ 0.42857143  0.        ]\n",
      " [ 0.          0.16666667]]\n"
     ]
    },
    {
     "data": {
      "image/png": "[encoded data removed]",
      "text/plain": [
       "<matplotlib.figure.Figure at 0x112ab87d0>"
      ]
     },
     "metadata": {},
     "output_type": "display_data"
    }
   ],
   "source": [
    "muy = mu0\n",
    "sigmay = sigma0\n",
    "# noisy observations\n",
    "#xs = [[1,1],[1.2,0.8],[1.1,1.2],[1.2,1.3],[1,1],[1,1],[1,1],[1,1]]\n",
    "xs = [[1.4,1.2],[1.1,1.1],[1.2,1.2],[1.0,0.9]]\n",
    "# sensor error covariance\n",
    "sigmax = [[3,0],[0,0.8]]\n",
    "# compute posterior for y\n",
    "i = 1\n",
    "fig = plt.figure(figsize=[12,8])\n",
    "for x in xs:\n",
    "    x = np.array(x)\n",
    "    sigmay_post = np.linalg.inv(np.linalg.inv(sigmay) + np.linalg.inv(sigmax))\n",
    "    muy_post = np.dot(sigmay_post,np.dot(np.linalg.inv(sigmax),x) + np.dot(np.linalg.inv(sigmay),muy))\n",
    "    muy = muy_post\n",
    "    sigmay = sigmay_post\n",
    "    print muy\n",
    "    print sigmay\n",
    "    plt.subplot(len(xs)/2,2,i)\n",
    "    i = i + 1\n",
    "    pltcontour(muy,sigmay)"
   ]
  },
  {
   "cell_type": "code",
   "execution_count": 32,
   "metadata": {
    "collapsed": false
   },
   "outputs": [
    {
     "name": "stdout",
     "output_type": "stream",
     "text": [
      "[ 0.67142857  0.91666667]\n",
      "[[ 0.42857143  0.        ]\n",
      " [ 0.          0.16666667]]\n"
     ]
    }
   ],
   "source": [
    "# We can also do this in a one shot approach by using all of the observations at once -- with the same result as before\n",
    "sigmay_post = np.linalg.inv(np.linalg.inv(sigma0) + len(xs)*np.linalg.inv(sigmax))\n",
    "muy_post = np.dot(sigmay_post,len(xs)*np.dot(np.linalg.inv(sigmax),np.mean(np.array(xs),axis=0))+np.dot(np.linalg.inv(sigma0),mu0))\n",
    "print muy_post\n",
    "print sigmay_post"
   ]
  },
  {
   "cell_type": "markdown",
   "metadata": {},
   "source": [
    "### Ordinary Linear Regression\n",
    "We use np.polyfit with order = 1 to fit a line to the 1-D data."
   ]
  },
  {
   "cell_type": "code",
   "execution_count": 85,
   "metadata": {
    "collapsed": false
   },
   "outputs": [],
   "source": [
    "#A helper method for pretty-printing linear models\n",
    "def pretty_print_linear(coefs, intercept, names = None, sort = False):\n",
    "    if names == None:\n",
    "        names = [\"X%s\" % x for x in range(1,1+len(coefs))]\n",
    "    lst = zip(coefs, names)\n",
    "    if sort:\n",
    "        lst = sorted(lst,  key = lambda x:-np.abs(x[0]))\n",
    "    return \"%6.3f\"%intercept+\" + \" +\" + \".join(\"%6.3f * %s\" % (coef, name)\n",
    "                                   for coef, name in lst)"
   ]
  },
  {
   "cell_type": "code",
   "execution_count": 41,
   "metadata": {
    "collapsed": false
   },
   "outputs": [
    {
     "data": {
      "text/plain": [
       "<matplotlib.collections.PathCollection at 0x112f20450>"
      ]
     },
     "execution_count": 41,
     "metadata": {},
     "output_type": "execute_result"
    },
    {
     "data": {
      "image/png": "[encoded data removed]",
      "text/plain": [
       "<matplotlib.figure.Figure at 0x112df7950>"
      ]
     },
     "metadata": {},
     "output_type": "display_data"
    }
   ],
   "source": [
    "#generate some data\n",
    "x = np.arange(20)\n",
    "w = np.array([-3.8,0.11])\n",
    "y = w[0] + w[1]*x\n",
    "sigma2 = 0.1\n",
    "y = y + np.random.normal(0,sqrt(sigma2),x.shape[0])\n",
    "plt.scatter(x,y)\n"
   ]
  },
  {
   "cell_type": "code",
   "execution_count": 46,
   "metadata": {
    "collapsed": false
   },
   "outputs": [
    {
     "name": "stdout",
     "output_type": "stream",
     "text": [
      "-3.821 + 0.113 * X1\n"
     ]
    }
   ],
   "source": [
    "# fit model - note that LinearRegression's fit function adds the intercept by default\n",
    "x = np.transpose(np.reshape(x,[1,len(x)]))\n",
    "y = np.transpose(np.reshape(y,[1,len(y)]))\n",
    "lr = LinearRegression()\n",
    "lr.fit(x,y)\n",
    "print pretty_print_linear(lr.coef_,lr.intercept_)"
   ]
  },
  {
   "cell_type": "code",
   "execution_count": 47,
   "metadata": {
    "collapsed": false
   },
   "outputs": [
    {
     "data": {
      "text/plain": [
       "[<matplotlib.lines.Line2D at 0x112165710>]"
      ]
     },
     "execution_count": 47,
     "metadata": {},
     "output_type": "execute_result"
    },
    {
     "data": {
      "image/png": "[encoded data removed]",
      "text/plain": [
       "<matplotlib.figure.Figure at 0x112ffc4d0>"
      ]
     },
     "metadata": {},
     "output_type": "display_data"
    }
   ],
   "source": [
    "xtest = np.transpose(np.reshape(range(25),[1,len(range(25))]))\n",
    "ytest = lr.predict(xtest)\n",
    "plt.scatter(x,y)\n",
    "plt.plot(xtest,ytest, color=\"red\")"
   ]
  },
  {
   "cell_type": "markdown",
   "metadata": {},
   "source": [
    "### Impact of outliers\n",
    "OLE is susceptible to outliers because of the square term in the loss function. For Bayesian regression, the issue arises because of the square term in the pdf of the Gaussian distribution. See below for alternate distributions."
   ]
  },
  {
   "cell_type": "code",
   "execution_count": 49,
   "metadata": {
    "collapsed": false
   },
   "outputs": [
    {
     "data": {
      "text/plain": [
       "<matplotlib.collections.PathCollection at 0x113369d10>"
      ]
     },
     "execution_count": 49,
     "metadata": {},
     "output_type": "execute_result"
    },
    {
     "data": {
      "image/png": "[encoded data removed]",
      "text/plain": [
       "<matplotlib.figure.Figure at 0x112a13550>"
      ]
     },
     "metadata": {},
     "output_type": "display_data"
    }
   ],
   "source": [
    "# adding outliers\n",
    "y[19] = -3*y[0]\n",
    "plt.scatter(x,y)"
   ]
  },
  {
   "cell_type": "code",
   "execution_count": 50,
   "metadata": {
    "collapsed": false
   },
   "outputs": [
    {
     "name": "stdout",
     "output_type": "stream",
     "text": [
      "-4.913 + 0.295 * X1\n"
     ]
    }
   ],
   "source": [
    "# fit model - note that LinearRegression's fit function adds the intercept by default\n",
    "x = np.transpose(np.reshape(x,[1,len(x)]))\n",
    "y = np.transpose(np.reshape(y,[1,len(y)]))\n",
    "lr = LinearRegression()\n",
    "lr.fit(x,y)\n",
    "print pretty_print_linear(lr.coef_,lr.intercept_)\n"
   ]
  },
  {
   "cell_type": "code",
   "execution_count": 51,
   "metadata": {
    "collapsed": false
   },
   "outputs": [
    {
     "data": {
      "text/plain": [
       "[<matplotlib.lines.Line2D at 0x1134fe390>]"
      ]
     },
     "execution_count": 51,
     "metadata": {},
     "output_type": "execute_result"
    },
    {
     "data": {
      "image/png": "[encoded data removed]",
      "text/plain": [
       "<matplotlib.figure.Figure at 0x1134fe510>"
      ]
     },
     "metadata": {},
     "output_type": "display_data"
    }
   ],
   "source": [
    "xtest = np.transpose(np.reshape(range(25),[1,len(range(25))]))\n",
    "ytest = lr.predict(xtest)\n",
    "plt.scatter(x,y)\n",
    "plt.plot(xtest, ytest, color=\"red\")"
   ]
  },
  {
   "cell_type": "markdown",
   "metadata": {},
   "source": [
    "### Using robust regression\n",
    "The statsmodels package has a robust linear regression model function (rlm) which uses a different norm than (squared) for the loss function. "
   ]
  },
  {
   "cell_type": "code",
   "execution_count": 62,
   "metadata": {
    "collapsed": false
   },
   "outputs": [
    {
     "name": "stdout",
     "output_type": "stream",
     "text": [
      "-3.786 + 0.117 * X1\n"
     ]
    }
   ],
   "source": [
    "import statsmodels.api as sm\n",
    "x1 = np.transpose(np.vstack([np.ones(x.shape[0]),x.flatten()]))\n",
    "# Fit model and print summary\n",
    "rlm_model = sm.RLM(y, x1, M=sm.robust.norms.HuberT())\n",
    "w = rlm_model.fit()\n",
    "w =  w.params\n",
    "print pretty_print_linear(w[1:],w[0])\n"
   ]
  },
  {
   "cell_type": "code",
   "execution_count": 63,
   "metadata": {
    "collapsed": false
   },
   "outputs": [
    {
     "data": {
      "text/plain": [
       "[<matplotlib.lines.Line2D at 0x1152e7850>]"
      ]
     },
     "execution_count": 63,
     "metadata": {},
     "output_type": "execute_result"
    },
    {
     "data": {
      "image/png": "[encoded data removed]",
      "text/plain": [
       "<matplotlib.figure.Figure at 0x1152e7290>"
      ]
     },
     "metadata": {},
     "output_type": "display_data"
    }
   ],
   "source": [
    "xtest = np.transpose(np.reshape(range(25),[1,len(range(25))]))\n",
    "ytest = w[0] + w[1]*xtest\n",
    "plt.scatter(x,y)\n",
    "plt.plot(xtest, ytest, color=\"red\")"
   ]
  },
  {
   "cell_type": "markdown",
   "metadata": {},
   "source": [
    "### Handling outliers using other distributions\n",
    "Below are some alternate distributions with less fat tail than Gaussian."
   ]
  },
  {
   "cell_type": "code",
   "execution_count": 12,
   "metadata": {
    "collapsed": false
   },
   "outputs": [
    {
     "data": {
      "text/plain": [
       "<matplotlib.legend.Legend at 0x114257350>"
      ]
     },
     "execution_count": 12,
     "metadata": {},
     "output_type": "execute_result"
    },
    {
     "data": {
      "image/png": "[encoded data removed]",
      "text/plain": [
       "<matplotlib.figure.Figure at 0x11262da50>"
      ]
     },
     "metadata": {},
     "output_type": "display_data"
    }
   ],
   "source": [
    "# comparing student-t, norm, laplace\n",
    "s = np.linspace(-10,10, 100)\n",
    "df = 2.74335149908\n",
    "plt.plot(s, laplace.pdf(s),'r-', lw=2, alpha=0.6, label='Laplace pdf')\n",
    "plt.plot(s, t.pdf(s,df),'b-', lw=2, alpha=0.6, label='Student-t pdf')\n",
    "plt.plot(s, norm.pdf(s,0,2),'k-', lw=2, alpha=0.6, label='Gaussian pdf')\n",
    "plt.legend()"
   ]
  },
  {
   "cell_type": "markdown",
   "metadata": {},
   "source": [
    "### Impact of correlated variables"
   ]
  },
  {
   "cell_type": "code",
   "execution_count": 66,
   "metadata": {
    "collapsed": false
   },
   "outputs": [
    {
     "name": "stdout",
     "output_type": "stream",
     "text": [
      "0.033 + 0.984 * X1 + 1.995 * X2 + -0.041 * X3\n"
     ]
    }
   ],
   "source": [
    "np.random.seed(0)\n",
    "size = 5000\n",
    " \n",
    "#A dataset with 3 features\n",
    "X = np.random.normal(0, 1, (size, 3))\n",
    "#Y = X0 + 2*X1 + noise\n",
    "Y = X[:,0] + 2*X[:,1] + np.random.normal(0, 2, size)\n",
    "lr = LinearRegression()\n",
    "lr.fit(X, Y)\n",
    "print pretty_print_linear(lr.coef_,lr.intercept_)"
   ]
  },
  {
   "cell_type": "code",
   "execution_count": 86,
   "metadata": {
    "collapsed": false
   },
   "outputs": [
    {
     "name": "stdout",
     "output_type": "stream",
     "text": [
      "Random seed 0\n",
      "Linear model: -0.021 +  0.728 * X1 +  2.309 * X2 + -0.082 * X3\n",
      "Random seed 1\n",
      "Linear model:  0.062 +  1.152 * X1 +  2.366 * X2 + -0.599 * X3\n",
      "Random seed 2\n",
      "Linear model: -0.179 +  0.697 * X1 +  0.322 * X2 +  2.086 * X3\n",
      "Random seed 3\n",
      "Linear model:  0.065 +  0.287 * X1 +  1.254 * X2 +  1.491 * X3\n",
      "Random seed 4\n",
      "Linear model:  0.035 +  0.187 * X1 +  0.772 * X2 +  2.189 * X3\n",
      "Random seed 5\n",
      "Linear model: -0.058 + -1.291 * X1 +  1.591 * X2 +  2.747 * X3\n",
      "Random seed 6\n",
      "Linear model: -0.077 +  1.199 * X1 + -0.031 * X2 +  1.915 * X3\n",
      "Random seed 7\n",
      "Linear model: -0.138 +  1.474 * X1 +  1.762 * X2 + -0.151 * X3\n",
      "Random seed 8\n",
      "Linear model:  0.032 +  0.084 * X1 +  1.880 * X2 +  1.107 * X3\n",
      "Random seed 9\n",
      "Linear model:  0.048 +  0.714 * X1 +  0.776 * X2 +  1.364 * X3\n"
     ]
    }
   ],
   "source": [
    "# adding correlated variables\n",
    "for i in range(10):\n",
    "    print \"Random seed %s\" % i\n",
    "    np.random.seed(seed=i)\n",
    "    X_seed = np.random.normal(0, 1, size)\n",
    "    X1 = X_seed + np.random.normal(0, .1, size)\n",
    "    X2 = X_seed + np.random.normal(0, .1, size)\n",
    "    X3 = X_seed + np.random.normal(0, .1, size)\n",
    "    Y = X1 + X2 + X3 + np.random.normal(0, 1, size)\n",
    "    X = np.array([X1, X2, X3]).T\n",
    " \n",
    " \n",
    "    lr = LinearRegression()\n",
    "    lr.fit(X,Y)\n",
    "    print \"Linear model:\", pretty_print_linear(lr.coef_,lr.intercept_)\n",
    " "
   ]
  },
  {
   "cell_type": "code",
   "execution_count": null,
   "metadata": {
    "collapsed": true
   },
   "outputs": [],
   "source": [
    "# handling correlated "
   ]
  }
 ],
 "metadata": {
  "kernelspec": {
   "display_name": "Python 2",
   "language": "python",
   "name": "python2"
  },
  "language_info": {
   "codemirror_mode": {
    "name": "ipython",
    "version": 2
   },
   "file_extension": ".py",
   "mimetype": "text/x-python",
   "name": "python",
   "nbconvert_exporter": "python",
   "pygments_lexer": "ipython2",
   "version": "2.7.11"
  }
 },
 "nbformat": 4,
 "nbformat_minor": 0
}
