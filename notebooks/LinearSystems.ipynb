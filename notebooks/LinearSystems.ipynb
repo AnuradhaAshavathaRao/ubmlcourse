{
 "cells": [
  {
   "cell_type": "code",
   "execution_count": 37,
   "metadata": {
    "collapsed": false
   },
   "outputs": [],
   "source": [
    "from sklearn import linear_model\n",
    "from scipy.stats import t,laplace,norm,multivariate_normal\n",
    "import numpy as np\n",
    "import matplotlib.pyplot as plt\n",
    "from math import sqrt\n",
    "from sklearn import cross_validation\n",
    "from sklearn.datasets import load_boston\n",
    "from sklearn.preprocessing import StandardScaler\n",
    "from sklearn.linear_model import LinearRegression,Ridge,Lasso\n",
    "\n",
    "from sklearn.preprocessing import scale\n",
    "from sklearn.pipeline import Pipeline\n",
    "from sklearn.preprocessing import PolynomialFeatures\n",
    "\n",
    "%matplotlib inline"
   ]
  },
  {
   "cell_type": "markdown",
   "metadata": {},
   "source": [
    "### Linear Gaussian Systems"
   ]
  },
  {
   "cell_type": "code",
   "execution_count": 89,
   "metadata": {
    "collapsed": true
   },
   "outputs": [],
   "source": [
    "def pltcontour(mu,sigma):\n",
    "    x1,x2 = np.mgrid[-10:10:.05, -10:10:.05]\n",
    "    pos = np.dstack((x1, x2))\n",
    "    rv = multivariate_normal(mu,sigma)\n",
    "    plt.contour(x1, x2, rv.pdf(pos))\n",
    "    plt.xlim([-10,10])\n",
    "    plt.ylim([-10,10])"
   ]
  },
  {
   "cell_type": "code",
   "execution_count": 90,
   "metadata": {
    "collapsed": false
   },
   "outputs": [
    {
     "name": "stderr",
     "output_type": "stream",
     "text": [
      "/Users/chandola/anaconda/lib/python2.7/site-packages/matplotlib/collections.py:650: FutureWarning: elementwise comparison failed; returning scalar instead, but in the future will perform elementwise comparison\n",
      "  if self._edgecolors_original != str('face'):\n"
     ]
    },
    {
     "data": {
      "image/png": "[encoded data removed]",
      "text/plain": [
       "<matplotlib.figure.Figure at 0x1153cf850>"
      ]
     },
     "metadata": {},
     "output_type": "display_data"
    }
   ],
   "source": [
    "# assume a Gaussian prior on the true location of the airplane\n",
    "mu0 = [0,0]\n",
    "sigma0 = [[1, 0], [0, 1]]\n",
    "pltcontour(mu0,sigma0)"
   ]
  },
  {
   "cell_type": "code",
   "execution_count": 91,
   "metadata": {
    "collapsed": false
   },
   "outputs": [
    {
     "name": "stdout",
     "output_type": "stream",
     "text": [
      "[ 0.35        0.66666667]\n",
      "[[ 0.75        0.        ]\n",
      " [ 0.          0.44444444]]\n",
      "[ 0.5         0.82142857]\n",
      "[[ 0.6         0.        ]\n",
      " [ 0.          0.28571429]]\n",
      "[ 0.61666667  0.92105263]\n",
      "[[ 0.5         0.        ]\n",
      " [ 0.          0.21052632]]\n",
      "[ 0.67142857  0.91666667]\n",
      "[[ 0.42857143  0.        ]\n",
      " [ 0.          0.16666667]]\n"
     ]
    },
    {
     "data": {
      "image/png": "[encoded data removed]",
      "text/plain": [
       "<matplotlib.figure.Figure at 0x1165aca50>"
      ]
     },
     "metadata": {},
     "output_type": "display_data"
    }
   ],
   "source": [
    "muy = mu0\n",
    "sigmay = sigma0\n",
    "# noisy observations\n",
    "#xs = [[1,1],[1.2,0.8],[1.1,1.2],[1.2,1.3],[1,1],[1,1],[1,1],[1,1]]\n",
    "xs = [[1.4,1.2],[1.1,1.1],[1.2,1.2],[1.0,0.9]]\n",
    "# sensor error covariance\n",
    "sigmax = [[3,0],[0,0.8]]\n",
    "# compute posterior for y\n",
    "i = 1\n",
    "fig = plt.figure(figsize=[12,8])\n",
    "for x in xs:\n",
    "    x = np.array(x)\n",
    "    sigmay_post = np.linalg.inv(np.linalg.inv(sigmay) + np.linalg.inv(sigmax))\n",
    "    muy_post = np.dot(sigmay_post,np.dot(np.linalg.inv(sigmax),x) + np.dot(np.linalg.inv(sigmay),muy))\n",
    "    muy = muy_post\n",
    "    sigmay = sigmay_post\n",
    "    print muy\n",
    "    print sigmay\n",
    "    plt.subplot(len(xs)/2,2,i)\n",
    "    i = i + 1\n",
    "    pltcontour(muy,sigmay)"
   ]
  },
  {
   "cell_type": "code",
   "execution_count": 92,
   "metadata": {
    "collapsed": false
   },
   "outputs": [
    {
     "name": "stdout",
     "output_type": "stream",
     "text": [
      "[ 0.67142857  0.91666667]\n",
      "[[ 0.42857143  0.        ]\n",
      " [ 0.          0.16666667]]\n"
     ]
    }
   ],
   "source": [
    "# We can also do this in a one shot approach by using all of the observations at once -- with the same result as before\n",
    "sigmay_post = np.linalg.inv(np.linalg.inv(sigma0) + len(xs)*np.linalg.inv(sigmax))\n",
    "muy_post = np.dot(sigmay_post,len(xs)*np.dot(np.linalg.inv(sigmax),np.mean(np.array(xs),axis=0))+np.dot(np.linalg.inv(sigma0),mu0))\n",
    "print muy_post\n",
    "print sigmay_post"
   ]
  },
  {
   "cell_type": "markdown",
   "metadata": {},
   "source": [
    "### Ordinary Linear Regression\n",
    "We use np.polyfit with order = 1 to fit a line to the 1-D data."
   ]
  },
  {
   "cell_type": "code",
   "execution_count": 3,
   "metadata": {
    "collapsed": false
   },
   "outputs": [],
   "source": [
    "#A helper method for pretty-printing linear models\n",
    "def pretty_print_linear(coefs, intercept, names = None, sort = False):\n",
    "    if names == None:\n",
    "        names = [\"X%s\" % x for x in range(1,1+len(coefs))]\n",
    "    lst = zip(coefs, names)\n",
    "    if sort:\n",
    "        lst = sorted(lst,  key = lambda x:-np.abs(x[0]))\n",
    "    return \"%6.3f\"%intercept+\" + \" +\" + \".join(\"%6.3f * %s\" % (coef, name)\n",
    "                                   for coef, name in lst)"
   ]
  },
  {
   "cell_type": "code",
   "execution_count": 108,
   "metadata": {
    "collapsed": false
   },
   "outputs": [
    {
     "data": {
      "text/plain": [
       "<matplotlib.collections.PathCollection at 0x11651ca10>"
      ]
     },
     "execution_count": 108,
     "metadata": {},
     "output_type": "execute_result"
    },
    {
     "data": {
      "image/png": "[encoded data removed]",
      "text/plain": [
       "<matplotlib.figure.Figure at 0x118670b90>"
      ]
     },
     "metadata": {},
     "output_type": "display_data"
    }
   ],
   "source": [
    "#generate some data\n",
    "x = np.arange(20)\n",
    "w = np.array([-3.8,0.11])\n",
    "y = w[0] + w[1]*x\n",
    "sigma2 = 0.1\n",
    "y = y + np.random.normal(0,sqrt(sigma2),x.shape[0])\n",
    "plt.scatter(x,y)\n"
   ]
  },
  {
   "cell_type": "code",
   "execution_count": 109,
   "metadata": {
    "collapsed": false
   },
   "outputs": [
    {
     "name": "stdout",
     "output_type": "stream",
     "text": [
      "-3.916 +  0.113 * X1\n"
     ]
    }
   ],
   "source": [
    "# fit model - note that LinearRegression's fit function adds the intercept by default\n",
    "x = np.transpose(np.reshape(x,[1,len(x)]))\n",
    "y = np.transpose(np.reshape(y,[1,len(y)]))\n",
    "lr = LinearRegression()\n",
    "lr.fit(x,y)\n",
    "print pretty_print_linear(lr.coef_,lr.intercept_)"
   ]
  },
  {
   "cell_type": "code",
   "execution_count": 110,
   "metadata": {
    "collapsed": false
   },
   "outputs": [
    {
     "data": {
      "text/plain": [
       "[<matplotlib.lines.Line2D at 0x115400e10>]"
      ]
     },
     "execution_count": 110,
     "metadata": {},
     "output_type": "execute_result"
    },
    {
     "data": {
      "image/png": "[encoded data removed]",
      "text/plain": [
       "<matplotlib.figure.Figure at 0x111fbbd50>"
      ]
     },
     "metadata": {},
     "output_type": "display_data"
    }
   ],
   "source": [
    "xtest = np.transpose(np.reshape(range(25),[1,len(range(25))]))\n",
    "ytest = lr.predict(xtest)\n",
    "plt.scatter(x,y)\n",
    "plt.plot(xtest,ytest, color=\"red\")"
   ]
  },
  {
   "cell_type": "markdown",
   "metadata": {},
   "source": [
    "### Impact of outliers\n",
    "OLE is susceptible to outliers because of the square term in the loss function. For Bayesian regression, the issue arises because of the square term in the pdf of the Gaussian distribution. See below for alternate distributions."
   ]
  },
  {
   "cell_type": "code",
   "execution_count": 111,
   "metadata": {
    "collapsed": false
   },
   "outputs": [
    {
     "data": {
      "text/plain": [
       "<matplotlib.collections.PathCollection at 0x118cc2150>"
      ]
     },
     "execution_count": 111,
     "metadata": {},
     "output_type": "execute_result"
    },
    {
     "data": {
      "image/png": "[encoded data removed]",
      "text/plain": [
       "<matplotlib.figure.Figure at 0x1152dc410>"
      ]
     },
     "metadata": {},
     "output_type": "display_data"
    }
   ],
   "source": [
    "# adding outliers\n",
    "y[19] = -3*y[0]\n",
    "plt.scatter(x,y)"
   ]
  },
  {
   "cell_type": "code",
   "execution_count": 113,
   "metadata": {
    "collapsed": false
   },
   "outputs": [
    {
     "name": "stdout",
     "output_type": "stream",
     "text": [
      "-5.099 +  0.311 * X1\n"
     ]
    }
   ],
   "source": [
    "# fit model - note that LinearRegression's fit function adds the intercept by default\n",
    "x = np.transpose(np.reshape(x,[1,len(x)]))\n",
    "y = np.transpose(np.reshape(y,[1,len(y)]))\n",
    "lr = LinearRegression()\n",
    "lr.fit(x,y)\n",
    "print pretty_print_linear(lr.coef_,lr.intercept_)\n"
   ]
  },
  {
   "cell_type": "code",
   "execution_count": 114,
   "metadata": {
    "collapsed": false
   },
   "outputs": [
    {
     "data": {
      "text/plain": [
       "[<matplotlib.lines.Line2D at 0x117f4d450>]"
      ]
     },
     "execution_count": 114,
     "metadata": {},
     "output_type": "execute_result"
    },
    {
     "data": {
      "image/png": "[encoded data removed]",
      "text/plain": [
       "<matplotlib.figure.Figure at 0x118552390>"
      ]
     },
     "metadata": {},
     "output_type": "display_data"
    }
   ],
   "source": [
    "xtest = np.transpose(np.reshape(range(25),[1,len(range(25))]))\n",
    "ytest = lr.predict(xtest)\n",
    "plt.scatter(x,y)\n",
    "plt.plot(xtest, ytest, color=\"red\")"
   ]
  },
  {
   "cell_type": "markdown",
   "metadata": {},
   "source": [
    "### Using robust regression\n",
    "The statsmodels package has a robust linear regression model function (rlm) which uses a different norm than (squared) for the loss function. "
   ]
  },
  {
   "cell_type": "code",
   "execution_count": 115,
   "metadata": {
    "collapsed": false
   },
   "outputs": [
    {
     "name": "stdout",
     "output_type": "stream",
     "text": [
      "-3.985 +  0.122 * X1\n"
     ]
    }
   ],
   "source": [
    "import statsmodels.api as sm\n",
    "x1 = np.transpose(np.vstack([np.ones(x.shape[0]),x.flatten()]))\n",
    "# Fit model and print summary\n",
    "rlm_model = sm.RLM(y, x1, M=sm.robust.norms.HuberT())\n",
    "w = rlm_model.fit()\n",
    "w =  w.params\n",
    "print pretty_print_linear(w[1:],w[0])\n"
   ]
  },
  {
   "cell_type": "code",
   "execution_count": 116,
   "metadata": {
    "collapsed": false
   },
   "outputs": [
    {
     "data": {
      "text/plain": [
       "[<matplotlib.lines.Line2D at 0x117fc9b50>]"
      ]
     },
     "execution_count": 116,
     "metadata": {},
     "output_type": "execute_result"
    },
    {
     "data": {
      "image/png": "[encoded data removed]",
      "text/plain": [
       "<matplotlib.figure.Figure at 0x11664f290>"
      ]
     },
     "metadata": {},
     "output_type": "display_data"
    }
   ],
   "source": [
    "xtest = np.transpose(np.reshape(range(25),[1,len(range(25))]))\n",
    "ytest = w[0] + w[1]*xtest\n",
    "plt.scatter(x,y)\n",
    "plt.plot(xtest, ytest, color=\"red\")"
   ]
  },
  {
   "cell_type": "markdown",
   "metadata": {},
   "source": [
    "### Handling outliers using other distributions\n",
    "Below are some alternate distributions with less fat tail than Gaussian."
   ]
  },
  {
   "cell_type": "code",
   "execution_count": 102,
   "metadata": {
    "collapsed": false
   },
   "outputs": [
    {
     "data": {
      "text/plain": [
       "<matplotlib.legend.Legend at 0x1185bb450>"
      ]
     },
     "execution_count": 102,
     "metadata": {},
     "output_type": "execute_result"
    },
    {
     "data": {
      "image/png": "[encoded data removed]",
      "text/plain": [
       "<matplotlib.figure.Figure at 0x11847d0d0>"
      ]
     },
     "metadata": {},
     "output_type": "display_data"
    }
   ],
   "source": [
    "# comparing student-t, norm, laplace\n",
    "s = np.linspace(-10,10, 100)\n",
    "df = 2.74335149908\n",
    "plt.plot(s, laplace.pdf(s),'r-', lw=2, alpha=0.6, label='Laplace pdf')\n",
    "plt.plot(s, t.pdf(s,df),'b-', lw=2, alpha=0.6, label='Student-t pdf')\n",
    "plt.plot(s, norm.pdf(s,0,2),'k-', lw=2, alpha=0.6, label='Gaussian pdf')\n",
    "plt.legend()"
   ]
  },
  {
   "cell_type": "markdown",
   "metadata": {},
   "source": [
    "### Demonstrating Overfitting with Linear Regression\n",
    "Also how to control the overfitting using Ridge Regression"
   ]
  },
  {
   "cell_type": "code",
   "execution_count": 24,
   "metadata": {
    "collapsed": false
   },
   "outputs": [
    {
     "data": {
      "text/plain": [
       "<matplotlib.collections.PathCollection at 0x1130a3910>"
      ]
     },
     "execution_count": 24,
     "metadata": {},
     "output_type": "execute_result"
    },
    {
     "data": {
      "image/png": "[encoded data removed]",
      "text/plain": [
       "<matplotlib.figure.Figure at 0x112db5190>"
      ]
     },
     "metadata": {},
     "output_type": "display_data"
    }
   ],
   "source": [
    "rng = np.random.RandomState(0)\n",
    "# Generate sample data\n",
    "np.random.seed(0)\n",
    "n_samples = 30\n",
    "true_fun = lambda X: np.cos(1.5 * np.pi * X)\n",
    "X = np.sort(np.random.rand(n_samples))\n",
    "y = true_fun(X) + np.random.randn(n_samples) * 0.2\n",
    "X = X[:,np.newaxis]\n",
    "# Learn linear regression model\n",
    "lrmodel = LinearRegression()\n",
    "lrmodel.fit(X,y)\n",
    "# Do polynomial basis expansion\n",
    "polynomial_features = PolynomialFeatures(degree=12,include_bias=False)\n",
    "# fit linear model on expanded features\n",
    "lrmodel1 = LinearRegression()\n",
    "pipeline = Pipeline([(\"polynomial_features\", polynomial_features),\n",
    "                     (\"linear_regression\", lrmodel1)])\n",
    "pipeline.fit(X,y)\n",
    "# fit ridge regression model on expanded features\n",
    "rrmodel = Ridge(alpha=0.1)\n",
    "pipeline1 = Pipeline([(\"polynomial_features\", polynomial_features),\n",
    "                     (\"ridge_regression\", rrmodel)])\n",
    "pipeline1.fit(X,y)\n",
    "\n",
    "# plot the fitted lines\n",
    "X_all = np.linspace(0, 1, 100)\n",
    "fig = plt.figure(figsize=[12,8])\n",
    "plt.subplot(2,2,1)\n",
    "plt.plot(X_all, lrmodel.predict(X_all[:, np.newaxis]),color='k',label='')\n",
    "plt.scatter(X,y, c='k', label='data')\n",
    "plt.legend()\n",
    "plt.subplot(2,2,2)\n",
    "plt.plot(X_all, pipeline.predict(X_all[:, np.newaxis]),color='r')\n",
    "plt.scatter(X,y, c='k', label='data')\n",
    "plt.legend()\n",
    "plt.subplot(2,2,3)\n",
    "plt.plot(X_all, pipeline1.predict(X_all[:, np.newaxis]),color='b')\n",
    "plt.scatter(X,y, c='k', label='data')\n",
    "plt.legend()"
   ]
  },
  {
   "cell_type": "markdown",
   "metadata": {},
   "source": [
    "### Using Ridge Regression to Control Impact of correlated variables"
   ]
  },
  {
   "cell_type": "code",
   "execution_count": 5,
   "metadata": {
    "collapsed": false
   },
   "outputs": [
    {
     "name": "stdout",
     "output_type": "stream",
     "text": [
      " 0.033 +  0.984 * X1 +  1.995 * X2 + -0.041 * X3\n"
     ]
    }
   ],
   "source": [
    "np.random.seed(0)\n",
    "size = 5000\n",
    " \n",
    "#A dataset with 3 features\n",
    "X = np.random.normal(0, 1, (size, 3))\n",
    "#Y = X0 + 2*X1 + noise\n",
    "Y = X[:,0] + 2*X[:,1] + np.random.normal(0, 2, size)\n",
    "lr = LinearRegression()\n",
    "lr.fit(X, Y)\n",
    "print pretty_print_linear(lr.coef_,lr.intercept_)"
   ]
  },
  {
   "cell_type": "code",
   "execution_count": 17,
   "metadata": {
    "collapsed": false
   },
   "outputs": [
    {
     "name": "stdout",
     "output_type": "stream",
     "text": [
      "Linear model: -0.194 + -0.100 * X1 +  1.341 * X2 +  1.660 * X3\n",
      "Linear model: -0.022 +  0.789 * X1 +  1.091 * X2 +  1.097 * X3\n",
      "Linear model:  0.246 + -0.318 * X1 +  1.578 * X2 +  1.913 * X3\n",
      "Linear model: -0.145 +  1.299 * X1 +  1.667 * X2 +  0.002 * X3\n",
      "Linear model:  0.097 +  0.870 * X1 +  1.839 * X2 +  0.375 * X3\n",
      "Linear model:  0.148 +  0.501 * X1 +  0.783 * X2 +  1.615 * X3\n",
      "Linear model:  0.019 +  1.368 * X1 +  1.733 * X2 + -0.071 * X3\n",
      "Linear model: -0.129 +  2.084 * X1 +  1.632 * X2 + -0.587 * X3\n",
      "Linear model:  0.058 + -0.588 * X1 +  0.801 * X2 +  2.988 * X3\n",
      "Linear model:  0.007 +  1.946 * X1 + -0.894 * X2 +  1.850 * X3\n"
     ]
    }
   ],
   "source": [
    "# adding correlated variables\n",
    "size = 100\n",
    "X_seed = np.random.normal(0, 1, size)\n",
    "for i in range(10):\n",
    "    np.random.seed(seed=i)\n",
    "    X1 = X_seed + np.random.normal(0, .1, size)\n",
    "    X2 = X_seed + np.random.normal(0, .1, size)\n",
    "    X3 = X_seed + np.random.normal(0, .1, size)\n",
    "    Y = X1 + X2 + X3 + np.random.normal(0, 1, size)\n",
    "    X = np.array([X1, X2, X3]).T\n",
    " \n",
    "    lr = LinearRegression()\n",
    "    lr.fit(X,Y)\n",
    "    print \"Linear model:\", pretty_print_linear(lr.coef_,lr.intercept_)\n",
    " "
   ]
  },
  {
   "cell_type": "code",
   "execution_count": 18,
   "metadata": {
    "collapsed": false
   },
   "outputs": [
    {
     "name": "stdout",
     "output_type": "stream",
     "text": [
      "Ridge model: -0.186 +  0.852 * X1 +  0.958 * X2 +  0.970 * X3\n",
      "Ridge model: -0.012 +  0.926 * X1 +  0.958 * X2 +  0.960 * X3\n",
      "Ridge model:  0.250 +  0.832 * X1 +  0.931 * X2 +  1.017 * X3\n",
      "Ridge model: -0.171 +  1.005 * X1 +  1.028 * X2 +  0.891 * X3\n",
      "Ridge model:  0.090 +  0.965 * X1 +  1.024 * X2 +  0.899 * X3\n",
      "Ridge model:  0.144 +  0.960 * X1 +  0.951 * X2 +  1.027 * X3\n",
      "Ridge model: -0.001 +  1.037 * X1 +  1.056 * X2 +  0.894 * X3\n",
      "Ridge model: -0.127 +  1.031 * X1 +  0.943 * X2 +  0.775 * X3\n",
      "Ridge model:  0.028 +  0.808 * X1 +  0.988 * X2 +  1.166 * X3\n",
      "Ridge model:  0.011 +  1.083 * X1 +  0.831 * X2 +  1.035 * X3\n"
     ]
    }
   ],
   "source": [
    "# handling correlated variables through Ridge Regression\n",
    "size = 100\n",
    "X_seed = np.random.normal(0, 1, size)\n",
    "for i in range(10):\n",
    "    np.random.seed(seed=i)\n",
    "    X1 = X_seed + np.random.normal(0, .1, size)\n",
    "    X2 = X_seed + np.random.normal(0, .1, size)\n",
    "    X3 = X_seed + np.random.normal(0, .1, size)\n",
    "    Y = X1 + X2 + X3 + np.random.normal(0, 1, size)\n",
    "    X = np.array([X1, X2, X3]).T\n",
    " \n",
    "    ridge = Ridge(alpha=10)\n",
    "    ridge.fit(X,Y)\n",
    "    print \"Ridge model:\", pretty_print_linear(ridge.coef_,ridge.intercept_)\n"
   ]
  },
  {
   "cell_type": "markdown",
   "metadata": {
    "collapsed": true
   },
   "source": [
    "### Using LASSO to control overfitting"
   ]
  },
  {
   "cell_type": "code",
   "execution_count": 27,
   "metadata": {
    "collapsed": false
   },
   "outputs": [
    {
     "data": {
      "text/plain": [
       "<matplotlib.legend.Legend at 0x11370d750>"
      ]
     },
     "execution_count": 27,
     "metadata": {},
     "output_type": "execute_result"
    },
    {
     "data": {
      "image/png": "[encoded data removed]",
      "text/plain": [
       "<matplotlib.figure.Figure at 0x10dfd4410>"
      ]
     },
     "metadata": {},
     "output_type": "display_data"
    }
   ],
   "source": [
    "# fit LASSO on expanded features\n",
    "llmodel = Lasso(alpha=0.02)\n",
    "pipeline2 = Pipeline([(\"polynomial_features\", polynomial_features),\n",
    "                     (\"lasso_regression\", llmodel)])\n",
    "pipeline2.fit(X,y)\n",
    "# plot the fitted lines\n",
    "X_all = np.linspace(0, 1, 100)\n",
    "plt.plot(X_all, pipeline2.predict(X_all[:, np.newaxis]),label='Lasso Fit')\n",
    "plt.scatter(X,y, c='k', label='data')\n",
    "plt.legend()"
   ]
  },
  {
   "cell_type": "markdown",
   "metadata": {},
   "source": [
    "### Demonstrating the role of Lasso in inducing sparsity\n",
    "We will use the Boston housing data set to study this phenomenon"
   ]
  },
  {
   "cell_type": "code",
   "execution_count": 34,
   "metadata": {
    "collapsed": false
   },
   "outputs": [],
   "source": [
    "boston = load_boston()\n",
    "scaler = StandardScaler()\n",
    "X = scaler.fit_transform(boston[\"data\"])\n",
    "Y = boston[\"target\"]\n",
    "names = boston[\"feature_names\"]"
   ]
  },
  {
   "cell_type": "code",
   "execution_count": 41,
   "metadata": {
    "collapsed": false
   },
   "outputs": [
    {
     "name": "stdout",
     "output_type": "stream",
     "text": [
      "Cross validation error: 34.7631\n",
      "Linear regression model:  22.533 + -3.749 * LSTAT + -3.104 * DIS +  2.671 * RM +  2.659 * RAD + -2.076 * TAX + -2.062 * PTRATIO + -2.060 * NOX +  1.081 * ZN + -0.920 * CRIM +  0.857 * B +  0.682 * CHAS +  0.143 * INDUS +  0.021 * AGE\n"
     ]
    },
    {
     "name": "stderr",
     "output_type": "stream",
     "text": [
      "/Users/chandola/anaconda/lib/python2.7/site-packages/IPython/kernel/__main__.py:3: FutureWarning: comparison to `None` will result in an elementwise object comparison in the future.\n",
      "  app.launch_new_instance()\n"
     ]
    }
   ],
   "source": [
    "# fit linear regression\n",
    "lrmodel = LinearRegression()\n",
    "lrmodel.fit(X, Y)\n",
    "scores = -np.mean(cross_validation.cross_val_score(lrmodel,\n",
    "    X, Y, scoring=\"mean_squared_error\", cv=10))\n",
    "print \"Cross validation error: %.4f\"%scores\n",
    "print \"Linear regression model: \", pretty_print_linear(lrmodel.coef_, lrmodel.intercept_, names, sort = True)"
   ]
  },
  {
   "cell_type": "code",
   "execution_count": 42,
   "metadata": {
    "collapsed": false
   },
   "outputs": [
    {
     "name": "stdout",
     "output_type": "stream",
     "text": [
      "Cross validation error: 34.6789\n",
      "Lasso model:  22.533 + -3.707 * LSTAT +  2.992 * RM + -1.757 * PTRATIO + -1.081 * DIS + -0.700 * NOX +  0.631 * B +  0.540 * CHAS + -0.236 * CRIM +  0.081 * ZN + -0.000 * INDUS + -0.000 * AGE +  0.000 * RAD + -0.000 * TAX\n"
     ]
    },
    {
     "name": "stderr",
     "output_type": "stream",
     "text": [
      "/Users/chandola/anaconda/lib/python2.7/site-packages/IPython/kernel/__main__.py:3: FutureWarning: comparison to `None` will result in an elementwise object comparison in the future.\n",
      "  app.launch_new_instance()\n"
     ]
    }
   ],
   "source": [
    "# fit Lasso\n",
    "lasso = Lasso(alpha=0.3)\n",
    "lasso.fit(X, Y)\n",
    "scores = -np.mean(cross_validation.cross_val_score(lasso,\n",
    "    X, Y, scoring=\"mean_squared_error\", cv=10))\n",
    "print \"Cross validation error: %.4f\"%scores\n",
    "print \"Lasso model: \", pretty_print_linear(lasso.coef_, lasso.intercept_, names, sort = True)"
   ]
  },
  {
   "cell_type": "code",
   "execution_count": 43,
   "metadata": {
    "collapsed": false
   },
   "outputs": [
    {
     "data": {
      "text/plain": [
       "<matplotlib.legend.Legend at 0x113a99290>"
      ]
     },
     "execution_count": 43,
     "metadata": {},
     "output_type": "execute_result"
    },
    {
     "data": {
      "image/png": "[encoded data removed]",
      "text/plain": [
       "<matplotlib.figure.Figure at 0x1139f7c10>"
      ]
     },
     "metadata": {},
     "output_type": "display_data"
    }
   ],
   "source": [
    "# comparing the two for sparsity\n",
    "fig = plt.figure(figsize=[12,6])\n",
    "plt.bar(range(1,len(lrmodel.coef_)+1),lrmodel.coef_,color='red',width=0.33,alpha=0.6)\n",
    "plt.bar(np.arange(1.33,len(lrmodel.coef_)+1),lasso.coef_,color='green',width=0.33,alpha=0.6)\n",
    "plt.legend(['Linear Regression', 'Lasso'])"
   ]
  }
 ],
 "metadata": {
  "kernelspec": {
   "display_name": "Python 2",
   "language": "python",
   "name": "python2"
  },
  "language_info": {
   "codemirror_mode": {
    "name": "ipython",
    "version": 2
   },
   "file_extension": ".py",
   "mimetype": "text/x-python",
   "name": "python",
   "nbconvert_exporter": "python",
   "pygments_lexer": "ipython2",
   "version": "2.7.11"
  }
 },
 "nbformat": 4,
 "nbformat_minor": 0
}
