{
 "metadata": {
  "name": "",
  "signature": "sha256:9feb227b196e5c016976dbd34b4d23ee343bb4595adef9de657ce16825515044"
 },
 "nbformat": 3,
 "nbformat_minor": 0,
 "worksheets": [
  {
   "cells": [
    {
     "cell_type": "markdown",
     "metadata": {},
     "source": [
      "# Script for Lecture 6\n",
      "Here we understand how the winnow algorithm works."
     ]
    },
    {
     "cell_type": "code",
     "collapsed": false,
     "input": [
      "import numpy as np\n",
      "from mpl_toolkits.mplot3d import Axes3D\n",
      "import matplotlib.pyplot as plt"
     ],
     "language": "python",
     "metadata": {},
     "outputs": [],
     "prompt_number": 48
    },
    {
     "cell_type": "code",
     "collapsed": false,
     "input": [
      "def getpoints(w,theta):\n",
      "    # a function that returns returns three points on a plane denoted by w'x = theta\n",
      "    x12 = np.matrix([[0 ,0],\n",
      "       [ 1,  0],\n",
      "       [ 0,  1]])\n",
      "    w1 = np.asmatrix(w)\n",
      "    x3 = (theta - x12*w1[:2,:])/w1[2,0]\n",
      "    points = np.c_[x12,x3]\n",
      "    return points"
     ],
     "language": "python",
     "metadata": {},
     "outputs": [],
     "prompt_number": 116
    },
    {
     "cell_type": "markdown",
     "metadata": {},
     "source": [
      "# Demo for Winnow\n",
      "In this demo the data is assumed to be defined using 3 binary attributes. We assume a disjunctive target concept and label points according to the target concept."
     ]
    },
    {
     "cell_type": "code",
     "collapsed": false,
     "input": [
      "# prepare data and assign labels according to the targetConcept\n",
      "d = 3\n",
      "theta = float(d) / 2\n",
      "targetConcept = np.array([1,0,0])\n",
      "# generate data\n",
      "data = np.array([[0,0,0],\n",
      "    [0,0,1],\n",
      "    [0,1,0],\n",
      "    [0,1,1],\n",
      "    [1,0,0],\n",
      "    [1,0,1],\n",
      "    [1,1,0],\n",
      "    [1,1,1]])\n",
      "# shuffle the ordering of data points\n",
      "np.random.shuffle(data)\n",
      "labels = np.any(data*np.tile(targetConcept,[8,1]),1)\n",
      "# initialize w\n",
      "w = np.ones([3,1])\n"
     ],
     "language": "python",
     "metadata": {},
     "outputs": [],
     "prompt_number": 233
    },
    {
     "cell_type": "code",
     "collapsed": false,
     "input": [
      "# show the points and labels\n",
      "fig = plt.figure()\n",
      "ax = fig.add_subplot(111, projection='3d')\n",
      "ax.scatter(data[labels,0], data[labels,1], data[labels,2], c='w', marker='o')\n",
      "ax.scatter(data[~labels,0], data[~labels,1], data[~labels,2], c='w', marker='s')\n",
      "# show initial surface\n",
      "xx, yy = np.meshgrid(arange(0,2), arange(0,2))\n",
      "zz = (-w[0] * xx - w[1] * yy + theta) * 1. /w[2]\n",
      "#plt3d = plt.figure().gca(projection='3d')\n",
      "ax.plot_surface(xx, yy, zz,linewidth=0,alpha=1)\n",
      "ax.set_xticks([0,1])\n",
      "ax.set_yticks([0,1])\n",
      "ax.set_zticks([0,1])"
     ],
     "language": "python",
     "metadata": {},
     "outputs": [
      {
       "metadata": {},
       "output_type": "pyout",
       "prompt_number": 234,
       "text": [
        "[<matplotlib.axis.XTick at 0x10daad3d0>,\n",
        " <matplotlib.axis.XTick at 0x10da93510>]"
       ]
      },
      {
       "metadata": {},
       "output_type": "display_data",
       "png": "[encoded data removed]",
       "text": [
        "<matplotlib.figure.Figure at 0x10d83ac50>"
       ]
      }
     ],
     "prompt_number": 234
    },
    {
     "cell_type": "code",
     "collapsed": false,
     "input": [
      "# consider each training example and update the decision surface\n",
      "for i in range(8):\n",
      "    p = np.dot(data[i,:],w) > theta\n",
      "    if(p != labels[i]):\n",
      "        # a mistake - update w\n",
      "        if(labels[i]):\n",
      "            w[data[i,:] == 1] = 2*w[data[i,:] == 1]\n",
      "        else:\n",
      "            w[data[i,:] == 1] = 0"
     ],
     "language": "python",
     "metadata": {},
     "outputs": [],
     "prompt_number": 235
    },
    {
     "cell_type": "code",
     "collapsed": false,
     "input": [
      "# show the points and labels\n",
      "fig = plt.figure()\n",
      "ax = fig.add_subplot(111, projection='3d')\n",
      "ax.scatter(data[labels,0], data[labels,1], data[labels,2], c='w', marker='o')\n",
      "ax.scatter(data[~labels,0], data[~labels,1], data[~labels,2], c='w', marker='s')\n",
      "# show the learnt surface\n",
      "xx, yy = np.meshgrid(arange(0,2), arange(0,2))\n",
      "zz = (-w[0] * xx - w[1] * yy + theta) * 1. /w[2]\n",
      "#plt3d = plt.figure().gca(projection='3d')\n",
      "ax.plot_surface(xx, yy, zz,linewidth=0,alpha=1)\n",
      "ax.set_xticks([0,1])\n",
      "ax.set_yticks([0,1])\n",
      "ax.set_zticks([0,1])"
     ],
     "language": "python",
     "metadata": {},
     "outputs": [
      {
       "metadata": {},
       "output_type": "pyout",
       "prompt_number": 236,
       "text": [
        "[<matplotlib.axis.XTick at 0x10bc236d0>,\n",
        " <matplotlib.axis.XTick at 0x10db65390>]"
       ]
      },
      {
       "metadata": {},
       "output_type": "display_data",
       "png": "[encoded data removed]",
       "text": [
        "<matplotlib.figure.Figure at 0x10da312d0>"
       ]
      }
     ],
     "prompt_number": 236
    }
   ],
   "metadata": {}
  }
 ]
}