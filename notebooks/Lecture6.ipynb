{
 "metadata": {
  "name": "",
  "signature": "sha256:ee1ef4a2a15d7c9e91a2efe29e8e364f80efc2158ff8eb4fba1505df5b2b2983"
 },
 "nbformat": 3,
 "nbformat_minor": 0,
 "worksheets": [
  {
   "cells": [
    {
     "cell_type": "markdown",
     "metadata": {},
     "source": [
      "# Script for Lecture 6\n",
      "Here we understand how the winnow algorithm works."
     ]
    },
    {
     "cell_type": "code",
     "collapsed": false,
     "input": [
      "import numpy as np\n",
      "from mpl_toolkits.mplot3d import Axes3D\n",
      "import matplotlib.pyplot as plt\n",
      "import time\n",
      "from IPython import display\n",
      "import pylab as pl"
     ],
     "language": "python",
     "metadata": {},
     "outputs": [],
     "prompt_number": 384
    },
    {
     "cell_type": "markdown",
     "metadata": {},
     "source": [
      "# Demo for Winnow\n",
      "In this demo the data is assumed to be defined using 3 binary attributes. We assume a disjunctive target concept and label points according to the target concept."
     ]
    },
    {
     "cell_type": "code",
     "collapsed": false,
     "input": [
      "# prepare data and assign labels according to the targetConcept\n",
      "d = 3\n",
      "theta = float(d) / 2\n",
      "targetConcept = np.array([0,0,1])\n",
      "# generate data\n",
      "data = np.array([[0,0,0],\n",
      "    [0,0,1],\n",
      "    [0,1,0],\n",
      "    [0,1,1],\n",
      "    [1,0,0],\n",
      "    [1,0,1],\n",
      "    [1,1,0],\n",
      "    [1,1,1]])\n",
      "# shuffle the ordering of data points\n",
      "np.random.shuffle(data)\n",
      "labels = np.any(data*np.tile(targetConcept,[8,1]),1)\n",
      "# initialize w\n",
      "w = np.ones([3,1])\n"
     ],
     "language": "python",
     "metadata": {},
     "outputs": [],
     "prompt_number": 241
    },
    {
     "cell_type": "code",
     "collapsed": false,
     "input": [
      "# show the points and labels\n",
      "fig = plt.figure()\n",
      "ax = fig.add_subplot(111, projection='3d')\n",
      "ax.scatter(data[labels,0], data[labels,1], data[labels,2], c='w', marker='o')\n",
      "ax.scatter(data[~labels,0], data[~labels,1], data[~labels,2], c='w', marker='s')\n",
      "# show initial surface\n",
      "xx, yy = np.meshgrid(arange(0,2), arange(0,2))\n",
      "zz = (-w[0] * xx - w[1] * yy + theta) * 1. /w[2]\n",
      "#plt3d = plt.figure().gca(projection='3d')\n",
      "ax.plot_surface(xx, yy, zz,linewidth=0,alpha=1)\n",
      "ax.set_xticks([0,1])\n",
      "ax.set_yticks([0,1])\n",
      "ax.set_zticks([0,1])"
     ],
     "language": "python",
     "metadata": {},
     "outputs": [
      {
       "metadata": {},
       "output_type": "pyout",
       "prompt_number": 242,
       "text": [
        "[<matplotlib.axis.XTick at 0x10def3d90>,\n",
        " <matplotlib.axis.XTick at 0x10de88e50>]"
       ]
      },
      {
       "metadata": {},
       "output_type": "display_data",
       "png": "[encoded data removed]",
       "text": [
        "<matplotlib.figure.Figure at 0x10dcb8d90>"
       ]
      }
     ],
     "prompt_number": 242
    },
    {
     "cell_type": "code",
     "collapsed": false,
     "input": [
      "# consider each training example and update the decision surface\n",
      "for i in range(8):\n",
      "    p = np.dot(data[i,:],w) > theta\n",
      "    if(p != labels[i]):\n",
      "        # a mistake - update w\n",
      "        if(labels[i]):\n",
      "            w[data[i,:] == 1] = 2*w[data[i,:] == 1]\n",
      "        else:\n",
      "            w[data[i,:] == 1] = 0"
     ],
     "language": "python",
     "metadata": {},
     "outputs": [],
     "prompt_number": 243
    },
    {
     "cell_type": "code",
     "collapsed": false,
     "input": [
      "# show the points and labels\n",
      "fig = plt.figure()\n",
      "ax = fig.add_subplot(111, projection='3d')\n",
      "ax.scatter(data[labels,0], data[labels,1], data[labels,2], c='w', marker='o')\n",
      "ax.scatter(data[~labels,0], data[~labels,1], data[~labels,2], c='w', marker='s')\n",
      "# show the learnt surface\n",
      "xx, yy = np.meshgrid(arange(0,2), arange(0,2))\n",
      "zz = (-w[0] * xx - w[1] * yy + theta) * 1. /w[2]\n",
      "#plt3d = plt.figure().gca(projection='3d')\n",
      "ax.plot_surface(xx, yy, zz,linewidth=0,alpha=1)\n",
      "ax.set_xticks([0,1])\n",
      "ax.set_yticks([0,1])\n",
      "ax.set_zticks([0,1])"
     ],
     "language": "python",
     "metadata": {},
     "outputs": []
    },
    {
     "cell_type": "markdown",
     "metadata": {},
     "source": [
      "## Perceptron Demo"
     ]
    },
    {
     "cell_type": "code",
     "collapsed": false,
     "input": [
      "#set parameters\n",
      "num0 = 6\n",
      "num1 = 6\n",
      "marg_size = 0.3"
     ],
     "language": "python",
     "metadata": {},
     "outputs": [],
     "prompt_number": 246
    },
    {
     "cell_type": "code",
     "collapsed": false,
     "input": [
      "#generate a sample data set\n",
      "alpha = marg_size/2\n",
      "angs0 = np.r_[np.array([[alpha],[np.pi-alpha]]),(np.pi-2*alpha)*np.random.rand(num0-2,1)+alpha]\n",
      "angs1 = np.r_[np.array([[-alpha],[-np.pi+alpha]]),(-np.pi+2*alpha)*np.random.rand(num0-2,1)-alpha]\n",
      "rota = np.random.rand()*np.pi\n",
      "angs0 = np.mod(angs0+rota,2*np.pi)\n",
      "angs1 = np.mod(angs1+rota,2*np.pi)\n",
      "x0 = np.c_[np.cos(angs0),np.sin(angs0)]\n",
      "x1 = np.c_[np.cos(angs1),np.sin(angs1)]\n",
      "x = np.r_[x0,x1]\n",
      "#generate labels\n",
      "y = np.r_[-1*np.ones([num0,1]),np.ones([num1,1])]\n",
      "#[repmat(-1,num0,1); repmat(+1,num1,1)];"
     ],
     "language": "python",
     "metadata": {},
     "outputs": [],
     "prompt_number": 364
    },
    {
     "cell_type": "code",
     "collapsed": false,
     "input": [
      "#show the data\n",
      "fig = plt.figure(figsize=(12, 12))\n",
      "\n",
      "#ax = fig.add_subplot(111)\n",
      "a = np.arange(0,np.pi,0.001)\n",
      "#ax.plot(np.cos(a),np.sin(a),c='k')\n",
      "#ax.plot(np.cos(a),-np.sin(a),c='k')\n",
      "pl.plot(np.cos(a),np.sin(a),c='k')\n",
      "pl.plot(np.cos(a),-np.sin(a),c='k')\n",
      "ax = pl.gca()\n",
      "# following four lines are just to center the axes\n",
      "ax.spines['left'].set_position('center')\n",
      "ax.spines['right'].set_color('none')\n",
      "ax.spines['bottom'].set_position('center')\n",
      "ax.spines['top'].set_color('none')\n",
      "# add data\n",
      "ax.scatter(x0[:,0],x0[:,1],s=120,alpha=0.6,c='b',marker='o')\n",
      "ax.scatter(x1[:,0],x1[:,1],s=120,alpha=0.6,c='r',marker='^')\n",
      "#initialize weights\n",
      "w = np.array([0,0])\n",
      "r = np.random.permutation(num0+num1)\n",
      "u = False\n",
      "for iter in range(2):\n",
      "    for ind in r:\n",
      "        # label the current training instance\n",
      "        an = matplotlib.text.Annotation(\"Training\",xy=x[ind,:],xytext=(x[ind,0]+0.5, x[ind,1]+0.5),arrowprops=dict(arrowstyle=\"-\")) \n",
      "        ax.add_artist(an)\n",
      "        display.clear_output(wait=True)\n",
      "        display.display(pl.gcf())\n",
      "        # get prediction according to current w\n",
      "        ypred = np.dot(x[ind,:],w)\n",
      "        # check for mistakes\n",
      "        if ypred*y[ind] <= 0:\n",
      "            # update w\n",
      "            w = w + y[ind]*x[ind,:]\n",
      "            # plot w\n",
      "            w0=w/norm(w);\n",
      "            pt=[w0[1],-w0[0]];\n",
      "            if u:\n",
      "                ln.remove()\n",
      "            ln = matplotlib.lines.Line2D([pt[0],-pt[0]],[pt[1], -pt[1]])\n",
      "            ax.add_line(ln)\n",
      "            u = True\n",
      "        time.sleep(1.0)\n",
      "        an.remove()\n"
     ],
     "language": "python",
     "metadata": {},
     "outputs": []
    },
    {
     "cell_type": "code",
     "collapsed": false,
     "input": [],
     "language": "python",
     "metadata": {},
     "outputs": []
    }
   ],
   "metadata": {}
  }
 ]
}