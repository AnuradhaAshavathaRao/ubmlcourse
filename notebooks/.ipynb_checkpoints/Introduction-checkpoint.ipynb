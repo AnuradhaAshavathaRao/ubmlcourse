{
 "metadata": {
  "name": "",
  "signature": "sha256:ae9c5448f14f38b44903363e0bc694fb003258d638460445e73dd730e61e9473"
 },
 "nbformat": 3,
 "nbformat_minor": 0,
 "worksheets": [
  {
   "cells": [
    {
     "cell_type": "heading",
     "level": 1,
     "metadata": {},
     "source": [
      "Introduction to Machine Learning - CSE 474/574"
     ]
    },
    {
     "cell_type": "raw",
     "metadata": {},
     "source": [
      "# A practical introduction to IPython Notebook\n",
      "\n",
      "Welcome to CSE474574\n"
     ]
    }
   ],
   "metadata": {}
  }
 ]
}